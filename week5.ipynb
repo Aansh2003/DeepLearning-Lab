{
 "cells": [
  {
   "cell_type": "code",
   "execution_count": 8,
   "id": "2d43c6d9-a217-4c40-8451-b19454b4ab9c",
   "metadata": {},
   "outputs": [],
   "source": [
    "import tensorflow as tf\n",
    "import numpy as np\n",
    "from tensorflow.keras.models import Sequential\n",
    "from tensorflow.keras.layers import Dense, Input, Flatten"
   ]
  },
  {
   "cell_type": "code",
   "execution_count": 2,
   "id": "a22b3701-8481-4196-b0d4-6a050dc345b6",
   "metadata": {},
   "outputs": [],
   "source": [
    "def generate_time_series(sample_size, n_steps):\n",
    "    freq1, freq2, offsets1, offsets2 = np.random.rand(4, sample_size, 1)\n",
    "    time = np.linspace(0, 1, n_steps)\n",
    "    series = 0.5 * np.sin((time - offsets1) * (freq1 * 10 + 10)) #wave1+\n",
    "    series += 0.2 * np.sin((time - offsets2) * (freq2 * 20 + 20)) #wave2+\n",
    "    series += 0.1 * (np.random.rand(sample_size, n_steps) - 0.5)  #noise\n",
    "    return series[..., np.newaxis].astype(np.float32)"
   ]
  },
  {
   "cell_type": "code",
   "execution_count": 4,
   "id": "ff7975a3-d1d8-4685-8dd6-6494b75c80a9",
   "metadata": {},
   "outputs": [
    {
     "data": {
      "text/plain": [
       "10000"
      ]
     },
     "execution_count": 4,
     "metadata": {},
     "output_type": "execute_result"
    }
   ],
   "source": [
    "data = generate_time_series(10000,51)\n",
    "len(data)"
   ]
  },
  {
   "cell_type": "code",
   "execution_count": 7,
   "id": "61c01ddb-9857-40ee-89a6-d689ae25f916",
   "metadata": {},
   "outputs": [],
   "source": [
    "x = data[:, :50, :]\n",
    "y = data[:, :-1, :]\n",
    "\n",
    "x_train = x[:7000]\n",
    "x_test = x[7000:9000]\n",
    "x_val = x[9000:]\n",
    "y_train = y[:7000]\n",
    "y_test = y[7000:9000]\n",
    "y_val = y[9000:]"
   ]
  },
  {
   "cell_type": "code",
   "execution_count": 27,
   "id": "268b2d53-ba1e-4b3c-b90a-fd456faacbbd",
   "metadata": {},
   "outputs": [],
   "source": [
    "def create_fcnn():\n",
    "    model = Sequential()\n",
    "    model.add(Flatten(input_shape=(50,1)))\n",
    "    model.add(Dense(64, activation='relu'))\n",
    "    model.add(Dense(1))\n",
    "    return model"
   ]
  },
  {
   "cell_type": "code",
   "execution_count": 28,
   "id": "14540379-4b01-4ca6-a295-0014e08c0e5f",
   "metadata": {},
   "outputs": [],
   "source": [
    "model = create_fcnn()"
   ]
  },
  {
   "cell_type": "code",
   "execution_count": 30,
   "id": "d70d37f2-9cc5-46e0-a944-e02ffdd55929",
   "metadata": {},
   "outputs": [
    {
     "name": "stdout",
     "output_type": "stream",
     "text": [
      "Epoch 1/20\n",
      "219/219 [==============================] - 1s 1ms/step - loss: 0.1443 - mse: 0.1443 - val_loss: 0.1443 - val_mse: 0.1443\n",
      "Epoch 2/20\n",
      "219/219 [==============================] - 0s 989us/step - loss: 0.1442 - mse: 0.1442 - val_loss: 0.1443 - val_mse: 0.1443\n",
      "Epoch 3/20\n",
      "219/219 [==============================] - 0s 1ms/step - loss: 0.1442 - mse: 0.1442 - val_loss: 0.1443 - val_mse: 0.1443\n",
      "Epoch 4/20\n",
      "219/219 [==============================] - 0s 983us/step - loss: 0.1442 - mse: 0.1442 - val_loss: 0.1443 - val_mse: 0.1443\n",
      "Epoch 5/20\n",
      "219/219 [==============================] - 0s 1ms/step - loss: 0.1442 - mse: 0.1442 - val_loss: 0.1443 - val_mse: 0.1443\n",
      "Epoch 6/20\n",
      "219/219 [==============================] - 0s 1ms/step - loss: 0.1442 - mse: 0.1442 - val_loss: 0.1443 - val_mse: 0.1443\n",
      "Epoch 7/20\n",
      "219/219 [==============================] - 0s 1ms/step - loss: 0.1442 - mse: 0.1442 - val_loss: 0.1443 - val_mse: 0.1443\n",
      "Epoch 8/20\n",
      "219/219 [==============================] - 0s 1ms/step - loss: 0.1442 - mse: 0.1442 - val_loss: 0.1443 - val_mse: 0.1443\n",
      "Epoch 9/20\n",
      "219/219 [==============================] - 0s 990us/step - loss: 0.1442 - mse: 0.1442 - val_loss: 0.1443 - val_mse: 0.1443\n",
      "Epoch 10/20\n",
      "219/219 [==============================] - 0s 1ms/step - loss: 0.1442 - mse: 0.1442 - val_loss: 0.1443 - val_mse: 0.1443\n",
      "Epoch 11/20\n",
      "219/219 [==============================] - 0s 977us/step - loss: 0.1442 - mse: 0.1442 - val_loss: 0.1443 - val_mse: 0.1443\n",
      "Epoch 12/20\n",
      "219/219 [==============================] - 0s 981us/step - loss: 0.1442 - mse: 0.1442 - val_loss: 0.1443 - val_mse: 0.1443\n",
      "Epoch 13/20\n",
      "219/219 [==============================] - 0s 1ms/step - loss: 0.1442 - mse: 0.1442 - val_loss: 0.1443 - val_mse: 0.1443\n",
      "Epoch 14/20\n",
      "219/219 [==============================] - 0s 1ms/step - loss: 0.1442 - mse: 0.1442 - val_loss: 0.1443 - val_mse: 0.1443\n",
      "Epoch 15/20\n",
      "219/219 [==============================] - 0s 981us/step - loss: 0.1442 - mse: 0.1442 - val_loss: 0.1443 - val_mse: 0.1443\n",
      "Epoch 16/20\n",
      "219/219 [==============================] - 0s 1ms/step - loss: 0.1442 - mse: 0.1442 - val_loss: 0.1443 - val_mse: 0.1443\n",
      "Epoch 17/20\n",
      "219/219 [==============================] - 0s 1ms/step - loss: 0.1442 - mse: 0.1442 - val_loss: 0.1443 - val_mse: 0.1443\n",
      "Epoch 18/20\n",
      "219/219 [==============================] - 0s 1ms/step - loss: 0.1442 - mse: 0.1442 - val_loss: 0.1443 - val_mse: 0.1443\n",
      "Epoch 19/20\n",
      "219/219 [==============================] - 0s 1ms/step - loss: 0.1442 - mse: 0.1442 - val_loss: 0.1443 - val_mse: 0.1443\n",
      "Epoch 20/20\n",
      "219/219 [==============================] - 0s 987us/step - loss: 0.1442 - mse: 0.1442 - val_loss: 0.1443 - val_mse: 0.1443\n"
     ]
    }
   ],
   "source": [
    "model.compile(optimizer='adam', loss='mse',metrics=['mse'])\n",
    "history = model.fit(x_train, y_train, epochs=20, validation_data=(x_val, y_val))"
   ]
  },
  {
   "cell_type": "code",
   "execution_count": 32,
   "id": "155cb625-513a-4bef-be1e-518357a788a7",
   "metadata": {},
   "outputs": [
    {
     "name": "stdout",
     "output_type": "stream",
     "text": [
      "63/63 [==============================] - 0s 628us/step - loss: 0.1442 - mse: 0.1442\n"
     ]
    },
    {
     "data": {
      "text/plain": [
       "[0.1442110389471054, 0.1442110389471054]"
      ]
     },
     "execution_count": 32,
     "metadata": {},
     "output_type": "execute_result"
    }
   ],
   "source": [
    "model.evaluate(x_test,y_test)"
   ]
  },
  {
   "cell_type": "code",
   "execution_count": 33,
   "id": "74b6411f-a7dd-443f-80e2-b34e5552a571",
   "metadata": {},
   "outputs": [
    {
     "name": "stdout",
     "output_type": "stream",
     "text": [
      "Epoch 1/20\n",
      "219/219 [==============================] - 2s 8ms/step - loss: 0.0049 - mse: 0.0049 - val_loss: 4.6407e-04 - val_mse: 4.6407e-04\n",
      "Epoch 2/20\n",
      "219/219 [==============================] - 2s 7ms/step - loss: 2.1050e-04 - mse: 2.1050e-04 - val_loss: 1.0173e-04 - val_mse: 1.0173e-04\n",
      "Epoch 3/20\n",
      "219/219 [==============================] - 2s 7ms/step - loss: 7.4377e-05 - mse: 7.4377e-05 - val_loss: 5.8457e-05 - val_mse: 5.8457e-05\n",
      "Epoch 4/20\n",
      "219/219 [==============================] - 2s 7ms/step - loss: 4.8220e-05 - mse: 4.8220e-05 - val_loss: 4.1366e-05 - val_mse: 4.1366e-05\n",
      "Epoch 5/20\n",
      "219/219 [==============================] - 2s 7ms/step - loss: 3.5189e-05 - mse: 3.5189e-05 - val_loss: 3.1196e-05 - val_mse: 3.1196e-05\n",
      "Epoch 6/20\n",
      "219/219 [==============================] - 2s 7ms/step - loss: 2.6994e-05 - mse: 2.6994e-05 - val_loss: 2.3994e-05 - val_mse: 2.3994e-05\n",
      "Epoch 7/20\n",
      "219/219 [==============================] - 2s 7ms/step - loss: 2.1200e-05 - mse: 2.1200e-05 - val_loss: 1.9347e-05 - val_mse: 1.9347e-05\n",
      "Epoch 8/20\n",
      "219/219 [==============================] - 2s 7ms/step - loss: 1.6952e-05 - mse: 1.6952e-05 - val_loss: 1.5518e-05 - val_mse: 1.5518e-05\n",
      "Epoch 9/20\n",
      "219/219 [==============================] - 2s 7ms/step - loss: 1.3918e-05 - mse: 1.3918e-05 - val_loss: 1.2691e-05 - val_mse: 1.2691e-05\n",
      "Epoch 10/20\n",
      "219/219 [==============================] - 2s 7ms/step - loss: 1.1428e-05 - mse: 1.1428e-05 - val_loss: 1.0805e-05 - val_mse: 1.0805e-05\n",
      "Epoch 11/20\n",
      "219/219 [==============================] - 2s 7ms/step - loss: 9.6725e-06 - mse: 9.6725e-06 - val_loss: 8.8464e-06 - val_mse: 8.8464e-06\n",
      "Epoch 12/20\n",
      "219/219 [==============================] - 2s 7ms/step - loss: 8.0577e-06 - mse: 8.0577e-06 - val_loss: 7.9753e-06 - val_mse: 7.9753e-06\n",
      "Epoch 13/20\n",
      "219/219 [==============================] - 2s 7ms/step - loss: 6.8674e-06 - mse: 6.8674e-06 - val_loss: 6.3802e-06 - val_mse: 6.3802e-06\n",
      "Epoch 14/20\n",
      "219/219 [==============================] - 2s 7ms/step - loss: 5.9384e-06 - mse: 5.9384e-06 - val_loss: 5.4941e-06 - val_mse: 5.4941e-06\n",
      "Epoch 15/20\n",
      "219/219 [==============================] - 2s 7ms/step - loss: 5.0887e-06 - mse: 5.0887e-06 - val_loss: 4.7382e-06 - val_mse: 4.7382e-06\n",
      "Epoch 16/20\n",
      "219/219 [==============================] - 2s 7ms/step - loss: 4.3912e-06 - mse: 4.3912e-06 - val_loss: 4.3124e-06 - val_mse: 4.3124e-06\n",
      "Epoch 17/20\n",
      "219/219 [==============================] - 2s 7ms/step - loss: 3.8815e-06 - mse: 3.8815e-06 - val_loss: 3.6157e-06 - val_mse: 3.6157e-06\n",
      "Epoch 18/20\n",
      "219/219 [==============================] - 2s 7ms/step - loss: 3.3508e-06 - mse: 3.3508e-06 - val_loss: 3.2912e-06 - val_mse: 3.2912e-06\n",
      "Epoch 19/20\n",
      "219/219 [==============================] - 2s 8ms/step - loss: 2.9790e-06 - mse: 2.9790e-06 - val_loss: 2.8049e-06 - val_mse: 2.8049e-06\n",
      "Epoch 20/20\n",
      "219/219 [==============================] - 2s 7ms/step - loss: 2.6054e-06 - mse: 2.6054e-06 - val_loss: 2.7817e-06 - val_mse: 2.7817e-06\n"
     ]
    }
   ],
   "source": [
    "model = tf.keras.Sequential([\n",
    "    tf.keras.layers.SimpleRNN(20, return_sequences=True, input_shape=[None, 1]),\n",
    "    tf.keras.layers.Dense(1)\n",
    "])\n",
    "\n",
    "model.compile(optimizer='adam', loss='mse',metrics=['mse'])\n",
    "history = model.fit(x_train, y_train, epochs=20, validation_data=(x_val, y_val))"
   ]
  },
  {
   "cell_type": "code",
   "execution_count": 34,
   "id": "475dc626-71ee-4ddb-802a-8874743d6557",
   "metadata": {},
   "outputs": [
    {
     "name": "stdout",
     "output_type": "stream",
     "text": [
      "63/63 [==============================] - 0s 2ms/step - loss: 2.7714e-06 - mse: 2.7714e-06\n"
     ]
    },
    {
     "data": {
      "text/plain": [
       "[2.771436356852064e-06, 2.771435902104713e-06]"
      ]
     },
     "execution_count": 34,
     "metadata": {},
     "output_type": "execute_result"
    }
   ],
   "source": [
    "model.evaluate(x_test,y_test)"
   ]
  },
  {
   "cell_type": "code",
   "execution_count": 35,
   "id": "b78e3e1f-e3ef-4c6d-a1ad-da69147cde01",
   "metadata": {},
   "outputs": [
    {
     "name": "stdout",
     "output_type": "stream",
     "text": [
      "Epoch 1/20\n",
      "219/219 [==============================] - 3s 8ms/step - loss: 0.0045 - mse: 0.0045 - val_loss: 2.7092e-04 - val_mse: 2.7092e-04\n",
      "Epoch 2/20\n",
      "219/219 [==============================] - 2s 7ms/step - loss: 1.6331e-04 - mse: 1.6331e-04 - val_loss: 1.0027e-04 - val_mse: 1.0027e-04\n",
      "Epoch 3/20\n",
      "219/219 [==============================] - 2s 7ms/step - loss: 7.2039e-05 - mse: 7.2039e-05 - val_loss: 5.2507e-05 - val_mse: 5.2507e-05\n",
      "Epoch 4/20\n",
      "219/219 [==============================] - 2s 7ms/step - loss: 4.3273e-05 - mse: 4.3273e-05 - val_loss: 3.4505e-05 - val_mse: 3.4505e-05\n",
      "Epoch 5/20\n",
      "219/219 [==============================] - 2s 7ms/step - loss: 3.0746e-05 - mse: 3.0746e-05 - val_loss: 2.5202e-05 - val_mse: 2.5202e-05\n",
      "Epoch 6/20\n",
      "219/219 [==============================] - 2s 8ms/step - loss: 2.2786e-05 - mse: 2.2786e-05 - val_loss: 1.9953e-05 - val_mse: 1.9953e-05\n",
      "Epoch 7/20\n",
      "219/219 [==============================] - 2s 7ms/step - loss: 1.7907e-05 - mse: 1.7907e-05 - val_loss: 1.6069e-05 - val_mse: 1.6069e-05\n",
      "Epoch 8/20\n",
      "219/219 [==============================] - 2s 7ms/step - loss: 1.5203e-05 - mse: 1.5203e-05 - val_loss: 1.3429e-05 - val_mse: 1.3429e-05\n",
      "Epoch 9/20\n",
      "219/219 [==============================] - 2s 8ms/step - loss: 1.3168e-05 - mse: 1.3168e-05 - val_loss: 1.3032e-05 - val_mse: 1.3032e-05\n",
      "Epoch 10/20\n",
      "219/219 [==============================] - 2s 7ms/step - loss: 1.1939e-05 - mse: 1.1939e-05 - val_loss: 1.2810e-05 - val_mse: 1.2810e-05\n",
      "Epoch 11/20\n",
      "219/219 [==============================] - 2s 8ms/step - loss: 9.9676e-06 - mse: 9.9676e-06 - val_loss: 9.3364e-06 - val_mse: 9.3364e-06\n",
      "Epoch 12/20\n",
      "219/219 [==============================] - 2s 7ms/step - loss: 9.3811e-06 - mse: 9.3811e-06 - val_loss: 6.7470e-06 - val_mse: 6.7470e-06\n",
      "Epoch 13/20\n",
      "219/219 [==============================] - 2s 8ms/step - loss: 8.8371e-06 - mse: 8.8371e-06 - val_loss: 5.7634e-06 - val_mse: 5.7634e-06\n",
      "Epoch 14/20\n",
      "219/219 [==============================] - 2s 7ms/step - loss: 8.1694e-06 - mse: 8.1693e-06 - val_loss: 5.3182e-06 - val_mse: 5.3182e-06\n",
      "Epoch 15/20\n",
      "219/219 [==============================] - 2s 7ms/step - loss: 7.8796e-06 - mse: 7.8796e-06 - val_loss: 4.7242e-06 - val_mse: 4.7242e-06\n",
      "Epoch 16/20\n",
      "219/219 [==============================] - 2s 7ms/step - loss: 7.2602e-06 - mse: 7.2602e-06 - val_loss: 5.4943e-06 - val_mse: 5.4943e-06\n",
      "Epoch 17/20\n",
      "219/219 [==============================] - 2s 7ms/step - loss: 7.2932e-06 - mse: 7.2932e-06 - val_loss: 8.7810e-06 - val_mse: 8.7810e-06\n",
      "Epoch 18/20\n",
      "219/219 [==============================] - 2s 7ms/step - loss: 6.6604e-06 - mse: 6.6604e-06 - val_loss: 4.5225e-06 - val_mse: 4.5225e-06\n",
      "Epoch 19/20\n",
      "219/219 [==============================] - 2s 7ms/step - loss: 6.1022e-06 - mse: 6.1022e-06 - val_loss: 3.3886e-06 - val_mse: 3.3886e-06\n",
      "Epoch 20/20\n",
      "219/219 [==============================] - 2s 7ms/step - loss: 5.9190e-06 - mse: 5.9190e-06 - val_loss: 3.4831e-06 - val_mse: 3.4831e-06\n"
     ]
    }
   ],
   "source": [
    "model = tf.keras.Sequential([\n",
    "    tf.keras.layers.SimpleRNN(20, return_sequences=True, input_shape=[None, 1]),\n",
    "    tf.keras.layers.Dense(64,activation='relu'),\n",
    "    tf.keras.layers.Dense(1)\n",
    "])\n",
    "\n",
    "model.compile(optimizer='adam', loss='mse',metrics=['mse'])\n",
    "history = model.fit(x_train, y_train, epochs=20, validation_data=(x_val, y_val))"
   ]
  },
  {
   "cell_type": "code",
   "execution_count": 36,
   "id": "9583cb7f-c6a3-4660-96ca-0c2e957f703b",
   "metadata": {},
   "outputs": [
    {
     "name": "stdout",
     "output_type": "stream",
     "text": [
      "63/63 [==============================] - 0s 2ms/step - loss: 3.4894e-06 - mse: 3.4894e-06\n"
     ]
    },
    {
     "data": {
      "text/plain": [
       "[3.4893726024165517e-06, 3.489371238174499e-06]"
      ]
     },
     "execution_count": 36,
     "metadata": {},
     "output_type": "execute_result"
    }
   ],
   "source": [
    "model.evaluate(x_test,y_test)"
   ]
  },
  {
   "cell_type": "code",
   "execution_count": null,
   "id": "26958077-77f2-4889-a9c1-eeda70504784",
   "metadata": {},
   "outputs": [],
   "source": []
  }
 ],
 "metadata": {
  "kernelspec": {
   "display_name": "Python 3 (ipykernel)",
   "language": "python",
   "name": "python3"
  },
  "language_info": {
   "codemirror_mode": {
    "name": "ipython",
    "version": 3
   },
   "file_extension": ".py",
   "mimetype": "text/x-python",
   "name": "python",
   "nbconvert_exporter": "python",
   "pygments_lexer": "ipython3",
   "version": "3.11.4"
  }
 },
 "nbformat": 4,
 "nbformat_minor": 5
}
