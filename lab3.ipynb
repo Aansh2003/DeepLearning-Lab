{
 "cells": [
  {
   "cell_type": "code",
   "execution_count": 229,
   "id": "f4eec1d8-d13e-44ab-9607-14c82c750955",
   "metadata": {},
   "outputs": [],
   "source": [
    "import tensorflow as tf\n",
    "from tensorflow.keras.models import Sequential\n",
    "from tensorflow.keras.layers import Dense, Input\n",
    "import pandas as pd\n",
    "import numpy as np\n",
    "import tensorflow.keras as keras\n",
    "import matplotlib.pyplot as plt\n"
   ]
  },
  {
   "cell_type": "code",
   "execution_count": 230,
   "id": "68de0e5a-68af-4518-8924-9dd2910bba25",
   "metadata": {},
   "outputs": [],
   "source": [
    "(x_train, y_train), (x_test, y_test) = keras.datasets.fashion_mnist.load_data()"
   ]
  },
  {
   "cell_type": "code",
   "execution_count": 231,
   "id": "106bef5e-4508-4f46-b3f8-8dd07dc8f70e",
   "metadata": {},
   "outputs": [
    {
     "data": {
      "image/png": "[encoded data removed]",
      "text/plain": [
       "<Figure size 640x480 with 9 Axes>"
      ]
     },
     "metadata": {},
     "output_type": "display_data"
    }
   ],
   "source": [
    "for i in range(9):\n",
    " plt.subplot(330 + 1 + i)\n",
    " plt.imshow(x_train[i], cmap=plt.get_cmap('gray'))\n",
    "plt.show()"
   ]
  },
  {
   "cell_type": "code",
   "execution_count": 232,
   "id": "a558b424-ee99-4551-bad2-c9e6211ae732",
   "metadata": {},
   "outputs": [
    {
     "name": "stdout",
     "output_type": "stream",
     "text": [
      "Classes:  10\n",
      "Dimensions:  (28, 28)\n"
     ]
    }
   ],
   "source": [
    "# Question 1\n",
    "print(\"Classes: \",len(set(list(y_train))))\n",
    "print(\"Dimensions: \",x_train[0].shape)\n",
    "\n",
    "x_train = x_train/255.0\n",
    "x_test = x_test/255.0"
   ]
  },
  {
   "cell_type": "code",
   "execution_count": 233,
   "id": "aa447bee-cb53-4e53-b312-4a932ac9f8a0",
   "metadata": {},
   "outputs": [],
   "source": [
    "y_train = tf.keras.utils.to_categorical(y_train)\n",
    "y_test = tf.keras.utils.to_categorical(y_test)"
   ]
  },
  {
   "cell_type": "code",
   "execution_count": 234,
   "id": "e046a160-cca2-4025-b3d0-449c7fd08c09",
   "metadata": {},
   "outputs": [],
   "source": [
    "def create_cnn1():\n",
    "    model = Sequential()\n",
    "    model.add(keras.layers.Conv2D(32, (5, 5), strides=(1,1), activation='relu', input_shape=(28, 28, 1)))\n",
    "    model.add(keras.layers.MaxPooling2D((2, 2)))\n",
    "    model.add(keras.layers.Flatten())\n",
    "    model.add(Dense(100, activation='relu'))\n",
    "    model.add(Dense(10, activation='softmax'))\n",
    "\n",
    "    opt = tf.keras.optimizers.Adam()\n",
    "    model.compile(optimizer=opt, loss='categorical_crossentropy', metrics=['accuracy'])\n",
    "    return model"
   ]
  },
  {
   "cell_type": "code",
   "execution_count": 235,
   "id": "bfd11607-5411-4342-a33f-0cdb74a4f176",
   "metadata": {},
   "outputs": [],
   "source": [
    "def create_cnn2():\n",
    "    model = Sequential()\n",
    "    model.add(keras.layers.Conv2D(32, (3, 3), strides=(1,1), activation='relu', input_shape=(28, 28, 1)))\n",
    "    model.add(keras.layers.Conv2D(32, (3, 3), strides=(1,1), activation='relu', input_shape=(28, 28, 1)))\n",
    "    model.add(keras.layers.MaxPooling2D((2, 2)))\n",
    "    model.add(keras.layers.Flatten())\n",
    "    model.add(Dense(100, activation='relu'))\n",
    "    model.add(Dense(10, activation='softmax'))\n",
    "\n",
    "    opt = tf.keras.optimizers.Adam()\n",
    "    model.compile(optimizer=opt, loss='categorical_crossentropy', metrics=['accuracy'])\n",
    "    return model"
   ]
  },
  {
   "cell_type": "code",
   "execution_count": 236,
   "id": "0d87997a-9792-47ac-b6aa-720b4262a70d",
   "metadata": {},
   "outputs": [],
   "source": [
    "def create_model():\n",
    "    model = Sequential()\n",
    "    model.add(tf.keras.layers.Input(shape=(28,28)))\n",
    "    model.add(keras.layers.Flatten())\n",
    "    model.add(Dense(128, activation='relu'))\n",
    "    model.add(Dense(64, activation='relu'))\n",
    "    model.add(Dense(32, activation='relu'))\n",
    "    model.add(Dense(10, activation='softmax'))\n",
    "\n",
    "    opt = tf.keras.optimizers.Adam()\n",
    "    model.compile(optimizer=opt, loss='categorical_crossentropy', metrics=['accuracy'])\n",
    "    return model"
   ]
  },
  {
   "cell_type": "code",
   "execution_count": 237,
   "id": "503508a0-e88a-4018-af61-18d9700b0766",
   "metadata": {},
   "outputs": [
    {
     "name": "stdout",
     "output_type": "stream",
     "text": [
      "Model: \"sequential_46\"\n",
      "_________________________________________________________________\n",
      " Layer (type)                Output Shape              Param #   \n",
      "=================================================================\n",
      " conv2d_35 (Conv2D)          (None, 24, 24, 32)        832       \n",
      "                                                                 \n",
      " max_pooling2d_27 (MaxPooli  (None, 12, 12, 32)        0         \n",
      " ng2D)                                                           \n",
      "                                                                 \n",
      " flatten_37 (Flatten)        (None, 4608)              0         \n",
      "                                                                 \n",
      " dense_122 (Dense)           (None, 100)               460900    \n",
      "                                                                 \n",
      " dense_123 (Dense)           (None, 10)                1010      \n",
      "                                                                 \n",
      "=================================================================\n",
      "Total params: 462742 (1.77 MB)\n",
      "Trainable params: 462742 (1.77 MB)\n",
      "Non-trainable params: 0 (0.00 Byte)\n",
      "_________________________________________________________________\n"
     ]
    }
   ],
   "source": [
    "cnn1 = create_cnn1()\n",
    "cnn1.build((28,28))\n",
    "cnn1.summary()"
   ]
  },
  {
   "cell_type": "code",
   "execution_count": 238,
   "id": "66dce9ca-0a5d-4263-8e79-cd1efd40765f",
   "metadata": {},
   "outputs": [
    {
     "name": "stdout",
     "output_type": "stream",
     "text": [
      "Model: \"sequential_47\"\n",
      "_________________________________________________________________\n",
      " Layer (type)                Output Shape              Param #   \n",
      "=================================================================\n",
      " conv2d_36 (Conv2D)          (None, 26, 26, 32)        320       \n",
      "                                                                 \n",
      " conv2d_37 (Conv2D)          (None, 24, 24, 32)        9248      \n",
      "                                                                 \n",
      " max_pooling2d_28 (MaxPooli  (None, 12, 12, 32)        0         \n",
      " ng2D)                                                           \n",
      "                                                                 \n",
      " flatten_38 (Flatten)        (None, 4608)              0         \n",
      "                                                                 \n",
      " dense_124 (Dense)           (None, 100)               460900    \n",
      "                                                                 \n",
      " dense_125 (Dense)           (None, 10)                1010      \n",
      "                                                                 \n",
      "=================================================================\n",
      "Total params: 471478 (1.80 MB)\n",
      "Trainable params: 471478 (1.80 MB)\n",
      "Non-trainable params: 0 (0.00 Byte)\n",
      "_________________________________________________________________\n"
     ]
    }
   ],
   "source": [
    "cnn2 = create_cnn2()\n",
    "cnn2.build((28,28))\n",
    "cnn2.summary()"
   ]
  },
  {
   "cell_type": "code",
   "execution_count": 239,
   "id": "409fd4a5-075c-4ffc-acb1-047e5ba1805f",
   "metadata": {},
   "outputs": [
    {
     "name": "stdout",
     "output_type": "stream",
     "text": [
      "Model: \"sequential_48\"\n",
      "_________________________________________________________________\n",
      " Layer (type)                Output Shape              Param #   \n",
      "=================================================================\n",
      " flatten_39 (Flatten)        (None, 784)               0         \n",
      "                                                                 \n",
      " dense_126 (Dense)           (None, 128)               100480    \n",
      "                                                                 \n",
      " dense_127 (Dense)           (None, 64)                8256      \n",
      "                                                                 \n",
      " dense_128 (Dense)           (None, 32)                2080      \n",
      "                                                                 \n",
      " dense_129 (Dense)           (None, 10)                330       \n",
      "                                                                 \n",
      "=================================================================\n",
      "Total params: 111146 (434.16 KB)\n",
      "Trainable params: 111146 (434.16 KB)\n",
      "Non-trainable params: 0 (0.00 Byte)\n",
      "_________________________________________________________________\n"
     ]
    }
   ],
   "source": [
    "regular = create_model()\n",
    "regular.summary()"
   ]
  },
  {
   "cell_type": "code",
   "execution_count": 240,
   "id": "5abc7660-093c-4a3c-a799-1ad9d7e45116",
   "metadata": {},
   "outputs": [
    {
     "name": "stdout",
     "output_type": "stream",
     "text": [
      "Epoch 1/30\n",
      "118/118 [==============================] - 1s 4ms/step - loss: 0.7303 - accuracy: 0.7435\n",
      "Epoch 2/30\n",
      "118/118 [==============================] - 1s 5ms/step - loss: 0.4533 - accuracy: 0.8420\n",
      "Epoch 3/30\n",
      "118/118 [==============================] - 1s 4ms/step - loss: 0.4045 - accuracy: 0.8588\n",
      "Epoch 4/30\n",
      "118/118 [==============================] - 1s 5ms/step - loss: 0.3742 - accuracy: 0.8674\n",
      "Epoch 5/30\n",
      "118/118 [==============================] - 1s 5ms/step - loss: 0.3592 - accuracy: 0.8717\n",
      "Epoch 6/30\n",
      "118/118 [==============================] - 0s 3ms/step - loss: 0.3429 - accuracy: 0.8773\n",
      "Epoch 7/30\n",
      "118/118 [==============================] - 0s 3ms/step - loss: 0.3323 - accuracy: 0.8805\n",
      "Epoch 8/30\n",
      "118/118 [==============================] - 1s 4ms/step - loss: 0.3177 - accuracy: 0.8847\n",
      "Epoch 9/30\n",
      "118/118 [==============================] - 1s 5ms/step - loss: 0.3071 - accuracy: 0.8875\n",
      "Epoch 10/30\n",
      "118/118 [==============================] - 1s 5ms/step - loss: 0.3006 - accuracy: 0.8898\n",
      "Epoch 11/30\n",
      "118/118 [==============================] - 0s 4ms/step - loss: 0.2859 - accuracy: 0.8955\n",
      "Epoch 12/30\n",
      "118/118 [==============================] - 1s 5ms/step - loss: 0.2895 - accuracy: 0.8930\n",
      "Epoch 13/30\n",
      "118/118 [==============================] - 1s 4ms/step - loss: 0.2700 - accuracy: 0.9013\n",
      "Epoch 14/30\n",
      "118/118 [==============================] - 1s 5ms/step - loss: 0.2657 - accuracy: 0.9013\n",
      "Epoch 15/30\n",
      "118/118 [==============================] - 0s 3ms/step - loss: 0.2627 - accuracy: 0.9024\n",
      "Epoch 16/30\n",
      "118/118 [==============================] - 1s 5ms/step - loss: 0.2567 - accuracy: 0.9058\n",
      "Epoch 17/30\n",
      "118/118 [==============================] - 1s 5ms/step - loss: 0.2507 - accuracy: 0.9081\n",
      "Epoch 18/30\n",
      "118/118 [==============================] - 0s 4ms/step - loss: 0.2443 - accuracy: 0.9104\n",
      "Epoch 19/30\n",
      "118/118 [==============================] - 0s 2ms/step - loss: 0.2379 - accuracy: 0.9119\n",
      "Epoch 20/30\n",
      "118/118 [==============================] - 0s 2ms/step - loss: 0.2334 - accuracy: 0.9134\n",
      "Epoch 21/30\n",
      "118/118 [==============================] - 0s 3ms/step - loss: 0.2264 - accuracy: 0.9158\n",
      "Epoch 22/30\n",
      "118/118 [==============================] - 1s 5ms/step - loss: 0.2241 - accuracy: 0.9172\n",
      "Epoch 23/30\n",
      "118/118 [==============================] - 1s 5ms/step - loss: 0.2159 - accuracy: 0.9196\n",
      "Epoch 24/30\n",
      "118/118 [==============================] - 0s 3ms/step - loss: 0.2107 - accuracy: 0.9204\n",
      "Epoch 25/30\n",
      "118/118 [==============================] - 1s 4ms/step - loss: 0.2072 - accuracy: 0.9236\n",
      "Epoch 26/30\n",
      "118/118 [==============================] - 1s 5ms/step - loss: 0.2037 - accuracy: 0.9250\n",
      "Epoch 27/30\n",
      "118/118 [==============================] - 0s 4ms/step - loss: 0.2041 - accuracy: 0.9245\n",
      "Epoch 28/30\n",
      "118/118 [==============================] - 0s 4ms/step - loss: 0.2005 - accuracy: 0.9252\n",
      "Epoch 29/30\n",
      "118/118 [==============================] - 0s 4ms/step - loss: 0.1938 - accuracy: 0.9276\n",
      "Epoch 30/30\n",
      "118/118 [==============================] - 1s 5ms/step - loss: 0.1859 - accuracy: 0.9310\n"
     ]
    }
   ],
   "source": [
    "history1 = regular.fit(x_train,y_train,epochs=30,batch_size=512)"
   ]
  },
  {
   "cell_type": "code",
   "execution_count": 241,
   "id": "aa0d97c2-3000-4541-9a84-b84bcca0e29c",
   "metadata": {},
   "outputs": [
    {
     "name": "stdout",
     "output_type": "stream",
     "text": [
      "Epoch 1/30\n",
      "118/118 [==============================] - 1s 6ms/step - loss: 0.6079 - accuracy: 0.7901\n",
      "Epoch 2/30\n",
      "118/118 [==============================] - 1s 6ms/step - loss: 0.3870 - accuracy: 0.8666\n",
      "Epoch 3/30\n",
      "118/118 [==============================] - 1s 6ms/step - loss: 0.3429 - accuracy: 0.8808\n",
      "Epoch 4/30\n",
      "118/118 [==============================] - 1s 6ms/step - loss: 0.3116 - accuracy: 0.8912\n",
      "Epoch 5/30\n",
      "118/118 [==============================] - 1s 6ms/step - loss: 0.2912 - accuracy: 0.8977\n",
      "Epoch 6/30\n",
      "118/118 [==============================] - 1s 6ms/step - loss: 0.2721 - accuracy: 0.9042\n",
      "Epoch 7/30\n",
      "118/118 [==============================] - 1s 6ms/step - loss: 0.2572 - accuracy: 0.9088\n",
      "Epoch 8/30\n",
      "118/118 [==============================] - 1s 6ms/step - loss: 0.2462 - accuracy: 0.9121\n",
      "Epoch 9/30\n",
      "118/118 [==============================] - 1s 6ms/step - loss: 0.2328 - accuracy: 0.9173\n",
      "Epoch 10/30\n",
      "118/118 [==============================] - 1s 5ms/step - loss: 0.2236 - accuracy: 0.9196\n",
      "Epoch 11/30\n",
      "118/118 [==============================] - 1s 6ms/step - loss: 0.2104 - accuracy: 0.9252\n",
      "Epoch 12/30\n",
      "118/118 [==============================] - 1s 5ms/step - loss: 0.2049 - accuracy: 0.9256\n",
      "Epoch 13/30\n",
      "118/118 [==============================] - 1s 6ms/step - loss: 0.1957 - accuracy: 0.9295\n",
      "Epoch 14/30\n",
      "118/118 [==============================] - 1s 6ms/step - loss: 0.1868 - accuracy: 0.9323\n",
      "Epoch 15/30\n",
      "118/118 [==============================] - 1s 6ms/step - loss: 0.1802 - accuracy: 0.9353\n",
      "Epoch 16/30\n",
      "118/118 [==============================] - 1s 6ms/step - loss: 0.1733 - accuracy: 0.9376\n",
      "Epoch 17/30\n",
      "118/118 [==============================] - 1s 6ms/step - loss: 0.1679 - accuracy: 0.9398\n",
      "Epoch 18/30\n",
      "118/118 [==============================] - 1s 6ms/step - loss: 0.1575 - accuracy: 0.9439\n",
      "Epoch 19/30\n",
      "118/118 [==============================] - 1s 6ms/step - loss: 0.1513 - accuracy: 0.9467\n",
      "Epoch 20/30\n",
      "118/118 [==============================] - 1s 6ms/step - loss: 0.1430 - accuracy: 0.9498\n",
      "Epoch 21/30\n",
      "118/118 [==============================] - 1s 6ms/step - loss: 0.1410 - accuracy: 0.9499\n",
      "Epoch 22/30\n",
      "118/118 [==============================] - 1s 6ms/step - loss: 0.1369 - accuracy: 0.9517\n",
      "Epoch 23/30\n",
      "118/118 [==============================] - 1s 6ms/step - loss: 0.1271 - accuracy: 0.9554\n",
      "Epoch 24/30\n",
      "118/118 [==============================] - 1s 6ms/step - loss: 0.1241 - accuracy: 0.9560\n",
      "Epoch 25/30\n",
      "118/118 [==============================] - 1s 6ms/step - loss: 0.1201 - accuracy: 0.9570\n",
      "Epoch 26/30\n",
      "118/118 [==============================] - 1s 6ms/step - loss: 0.1116 - accuracy: 0.9606\n",
      "Epoch 27/30\n",
      "118/118 [==============================] - 1s 6ms/step - loss: 0.1080 - accuracy: 0.9626\n",
      "Epoch 28/30\n",
      "118/118 [==============================] - 1s 6ms/step - loss: 0.1019 - accuracy: 0.9649\n",
      "Epoch 29/30\n",
      "118/118 [==============================] - 1s 6ms/step - loss: 0.0983 - accuracy: 0.9656\n",
      "Epoch 30/30\n",
      "118/118 [==============================] - 1s 6ms/step - loss: 0.0912 - accuracy: 0.9693\n"
     ]
    }
   ],
   "source": [
    "history = cnn1.fit(x_train,y_train,epochs=30,batch_size=512)"
   ]
  },
  {
   "cell_type": "code",
   "execution_count": 242,
   "id": "ade6246b-5ab9-46a3-8dfd-6bf6063e11aa",
   "metadata": {},
   "outputs": [
    {
     "name": "stdout",
     "output_type": "stream",
     "text": [
      "Epoch 1/30\n",
      "118/118 [==============================] - 2s 11ms/step - loss: 0.6331 - accuracy: 0.7797\n",
      "Epoch 2/30\n",
      "118/118 [==============================] - 1s 11ms/step - loss: 0.3828 - accuracy: 0.8660\n",
      "Epoch 3/30\n",
      "118/118 [==============================] - 1s 12ms/step - loss: 0.3274 - accuracy: 0.8851\n",
      "Epoch 4/30\n",
      "118/118 [==============================] - 1s 12ms/step - loss: 0.2859 - accuracy: 0.8982\n",
      "Epoch 5/30\n",
      "118/118 [==============================] - 1s 12ms/step - loss: 0.2650 - accuracy: 0.9057\n",
      "Epoch 6/30\n",
      "118/118 [==============================] - 1s 11ms/step - loss: 0.2378 - accuracy: 0.9153\n",
      "Epoch 7/30\n",
      "118/118 [==============================] - 1s 12ms/step - loss: 0.2263 - accuracy: 0.9179\n",
      "Epoch 8/30\n",
      "118/118 [==============================] - 1s 13ms/step - loss: 0.2121 - accuracy: 0.9226\n",
      "Epoch 9/30\n",
      "118/118 [==============================] - 1s 12ms/step - loss: 0.2004 - accuracy: 0.9275\n",
      "Epoch 10/30\n",
      "118/118 [==============================] - 1s 11ms/step - loss: 0.1809 - accuracy: 0.9345\n",
      "Epoch 11/30\n",
      "118/118 [==============================] - 1s 11ms/step - loss: 0.1716 - accuracy: 0.9381\n",
      "Epoch 12/30\n",
      "118/118 [==============================] - 1s 12ms/step - loss: 0.1647 - accuracy: 0.9403\n",
      "Epoch 13/30\n",
      "118/118 [==============================] - 1s 12ms/step - loss: 0.1480 - accuracy: 0.9466\n",
      "Epoch 14/30\n",
      "118/118 [==============================] - 1s 12ms/step - loss: 0.1384 - accuracy: 0.9495\n",
      "Epoch 15/30\n",
      "118/118 [==============================] - 1s 11ms/step - loss: 0.1276 - accuracy: 0.9540\n",
      "Epoch 16/30\n",
      "118/118 [==============================] - 1s 12ms/step - loss: 0.1237 - accuracy: 0.9556\n",
      "Epoch 17/30\n",
      "118/118 [==============================] - 1s 11ms/step - loss: 0.1136 - accuracy: 0.9586\n",
      "Epoch 18/30\n",
      "118/118 [==============================] - 1s 12ms/step - loss: 0.0978 - accuracy: 0.9659\n",
      "Epoch 19/30\n",
      "118/118 [==============================] - 1s 12ms/step - loss: 0.0947 - accuracy: 0.9660\n",
      "Epoch 20/30\n",
      "118/118 [==============================] - 1s 11ms/step - loss: 0.0884 - accuracy: 0.9680\n",
      "Epoch 21/30\n",
      "118/118 [==============================] - 1s 11ms/step - loss: 0.0736 - accuracy: 0.9743\n",
      "Epoch 22/30\n",
      "118/118 [==============================] - 1s 12ms/step - loss: 0.0721 - accuracy: 0.9749\n",
      "Epoch 23/30\n",
      "118/118 [==============================] - 1s 12ms/step - loss: 0.0638 - accuracy: 0.9779\n",
      "Epoch 24/30\n",
      "118/118 [==============================] - 1s 12ms/step - loss: 0.0578 - accuracy: 0.9802\n",
      "Epoch 25/30\n",
      "118/118 [==============================] - 1s 12ms/step - loss: 0.0479 - accuracy: 0.9844\n",
      "Epoch 26/30\n",
      "118/118 [==============================] - 1s 12ms/step - loss: 0.0497 - accuracy: 0.9829\n",
      "Epoch 27/30\n",
      "118/118 [==============================] - 1s 12ms/step - loss: 0.0396 - accuracy: 0.9875\n",
      "Epoch 28/30\n",
      "118/118 [==============================] - 1s 11ms/step - loss: 0.0342 - accuracy: 0.9892\n",
      "Epoch 29/30\n",
      "118/118 [==============================] - 1s 11ms/step - loss: 0.0308 - accuracy: 0.9900\n",
      "Epoch 30/30\n",
      "118/118 [==============================] - 1s 12ms/step - loss: 0.0301 - accuracy: 0.9903\n"
     ]
    }
   ],
   "source": [
    "history3 = cnn2.fit(x_train,y_train,epochs=30,batch_size=512)"
   ]
  },
  {
   "cell_type": "code",
   "execution_count": 245,
   "id": "493ae579-6295-44d1-bba2-08bb5ffcb3a2",
   "metadata": {},
   "outputs": [
    {
     "data": {
      "image/png": "[encoded data removed]",
      "text/plain": [
       "<Figure size 640x480 with 1 Axes>"
      ]
     },
     "metadata": {},
     "output_type": "display_data"
    },
    {
     "data": {
      "image/png": "[encoded data removed]",
      "text/plain": [
       "<Figure size 640x480 with 1 Axes>"
      ]
     },
     "metadata": {},
     "output_type": "display_data"
    }
   ],
   "source": [
    "acc1 = history1.history['accuracy']\n",
    "loss1 = history1.history['loss']\n",
    "\n",
    "acc2 = history.history['accuracy']\n",
    "loss2 = history.history['loss']\n",
    "\n",
    "acc3 = history3.history['accuracy']\n",
    "loss3 = history3.history['loss']\n",
    "\n",
    "epochs = range(1, len(acc) + 1)\n",
    "\n",
    "plt.plot(epochs, acc1, 'bo--', label='FCNN')\n",
    "plt.plot(epochs, acc2, 'g--', label='CNN-1')\n",
    "plt.plot(epochs, acc3, 'r--', label='CNN-2')\n",
    "\n",
    "plt.title('Training accuracy')\n",
    "plt.legend()\n",
    "\n",
    "plt.figure()\n",
    "\n",
    "plt.plot(epochs, loss1, 'bo--', label='FCNN')\n",
    "plt.plot(epochs, loss2, 'g--', label='CNN-1')\n",
    "plt.plot(epochs, loss3, 'r--', label='CNN-2')\n",
    "plt.title('Training loss')\n",
    "plt.legend()\n",
    "\n",
    "plt.show()"
   ]
  },
  {
   "cell_type": "code",
   "execution_count": 246,
   "id": "8daa093c-54e9-46f6-86fb-a0786d4368f7",
   "metadata": {},
   "outputs": [
    {
     "name": "stdout",
     "output_type": "stream",
     "text": [
      "313/313 - 1s - loss: 0.3578 - accuracy: 0.9224 - 712ms/epoch - 2ms/step\n"
     ]
    }
   ],
   "source": [
    "test_loss, test_acc = cnn2.evaluate(x_test,y_test,verbose=2)"
   ]
  },
  {
   "cell_type": "code",
   "execution_count": 247,
   "id": "2697f215-267b-4281-8099-47baa850997c",
   "metadata": {},
   "outputs": [
    {
     "name": "stdout",
     "output_type": "stream",
     "text": [
      "313/313 - 1s - loss: 0.2596 - accuracy: 0.9175 - 655ms/epoch - 2ms/step\n"
     ]
    }
   ],
   "source": [
    "test_loss, test_acc = cnn1.evaluate(x_test,y_test,verbose=2)"
   ]
  },
  {
   "cell_type": "code",
   "execution_count": 248,
   "id": "1d935e8f-815d-4ff7-8483-250066cc7e72",
   "metadata": {},
   "outputs": [
    {
     "name": "stdout",
     "output_type": "stream",
     "text": [
      "313/313 - 0s - loss: 0.3423 - accuracy: 0.8857 - 325ms/epoch - 1ms/step\n"
     ]
    }
   ],
   "source": [
    "test_loss, test_acc = regular.evaluate(x_test,y_test,verbose=2)"
   ]
  },
  {
   "cell_type": "code",
   "execution_count": 227,
   "id": "db6af51f-0e69-47db-a530-7b6478040e50",
   "metadata": {},
   "outputs": [],
   "source": [
    "# Question 4\n",
    "# CNN outperforms FCNN and converges faster too"
   ]
  },
  {
   "cell_type": "code",
   "execution_count": 228,
   "id": "1435cecb-8d2a-489a-9678-72fa946b0490",
   "metadata": {},
   "outputs": [],
   "source": [
    "# Question 5\n",
    "# CNN has significantly more parameters to train"
   ]
  },
  {
   "cell_type": "code",
   "execution_count": null,
   "id": "8acd1781-c02d-47e9-985c-43653bd95e86",
   "metadata": {},
   "outputs": [],
   "source": [
    "# Question 6\n",
    "# CNN takes longer to train due to more parameters required"
   ]
  }
 ],
 "metadata": {
  "kernelspec": {
   "display_name": "Python 3 (ipykernel)",
   "language": "python",
   "name": "python3"
  },
  "language_info": {
   "codemirror_mode": {
    "name": "ipython",
    "version": 3
   },
   "file_extension": ".py",
   "mimetype": "text/x-python",
   "name": "python",
   "nbconvert_exporter": "python",
   "pygments_lexer": "ipython3",
   "version": "3.11.4"
  }
 },
 "nbformat": 4,
 "nbformat_minor": 5
}
